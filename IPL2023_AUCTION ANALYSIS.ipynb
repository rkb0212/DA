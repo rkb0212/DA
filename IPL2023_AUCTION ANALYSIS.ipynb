{
 "cells": [
  {
   "cell_type": "code",
   "execution_count": null,
   "id": "bbab76fd",
   "metadata": {},
   "outputs": [],
   "source": [
    "#ROHANKUMAR BAROULIYA  #IPL2023 AUCTION ANALYSIS PROJECT USING PYTHON"
   ]
  },
  {
   "cell_type": "code",
   "execution_count": 123,
   "id": "cc226aa3",
   "metadata": {},
   "outputs": [],
   "source": [
    "import numpy as np\n",
    "import pandas as pd\n",
    "import matplotlib.pyplot as plt\n",
    "import seaborn as sns\n",
    "%matplotlib inline\n",
    "import warnings\n",
    "warnings.filterwarnings('ignore')"
   ]
  },
  {
   "cell_type": "code",
   "execution_count": 124,
   "id": "2ec843a9",
   "metadata": {},
   "outputs": [
    {
     "data": {
      "text/html": [
       "<div>\n",
       "<style scoped>\n",
       "    .dataframe tbody tr th:only-of-type {\n",
       "        vertical-align: middle;\n",
       "    }\n",
       "\n",
       "    .dataframe tbody tr th {\n",
       "        vertical-align: top;\n",
       "    }\n",
       "\n",
       "    .dataframe thead th {\n",
       "        text-align: right;\n",
       "    }\n",
       "</style>\n",
       "<table border=\"1\" class=\"dataframe\">\n",
       "  <thead>\n",
       "    <tr style=\"text-align: right;\">\n",
       "      <th></th>\n",
       "      <th>PLAYERS</th>\n",
       "      <th>NATIONALITY</th>\n",
       "      <th>TYPE</th>\n",
       "      <th>BASE PRICE</th>\n",
       "      <th>PRICE PAID</th>\n",
       "      <th>PREVIOUS TEAM</th>\n",
       "      <th>TEAMS</th>\n",
       "    </tr>\n",
       "  </thead>\n",
       "  <tbody>\n",
       "    <tr>\n",
       "      <th>0</th>\n",
       "      <td>Ben Stokes</td>\n",
       "      <td>Overseas</td>\n",
       "      <td>All-Rounder</td>\n",
       "      <td>₹ 2,00,00,000</td>\n",
       "      <td>162500000.0</td>\n",
       "      <td>NaN</td>\n",
       "      <td>Chennai Super Kings</td>\n",
       "    </tr>\n",
       "    <tr>\n",
       "      <th>1</th>\n",
       "      <td>Kyle Jamieson</td>\n",
       "      <td>Overseas</td>\n",
       "      <td>Bowler</td>\n",
       "      <td>₹ 1,00,00,000</td>\n",
       "      <td>10000000.0</td>\n",
       "      <td>Royal Challengers Bangalore</td>\n",
       "      <td>Chennai Super Kings</td>\n",
       "    </tr>\n",
       "    <tr>\n",
       "      <th>2</th>\n",
       "      <td>Nishant Sindhu</td>\n",
       "      <td>Indian</td>\n",
       "      <td>All-Rounder</td>\n",
       "      <td>₹ 20,00,000</td>\n",
       "      <td>6000000.0</td>\n",
       "      <td>NaN</td>\n",
       "      <td>Chennai Super Kings</td>\n",
       "    </tr>\n",
       "    <tr>\n",
       "      <th>3</th>\n",
       "      <td>Ajinkya Rahane</td>\n",
       "      <td>Indian</td>\n",
       "      <td>Batter</td>\n",
       "      <td>₹ 50,00,000</td>\n",
       "      <td>5000000.0</td>\n",
       "      <td>Kolkata Knight Riders</td>\n",
       "      <td>Chennai Super Kings</td>\n",
       "    </tr>\n",
       "    <tr>\n",
       "      <th>4</th>\n",
       "      <td>Bhagath Varma</td>\n",
       "      <td>Indian</td>\n",
       "      <td>All-Rounder</td>\n",
       "      <td>₹ 20,00,000</td>\n",
       "      <td>2000000.0</td>\n",
       "      <td>Chennai Super Kings</td>\n",
       "      <td>Chennai Super Kings</td>\n",
       "    </tr>\n",
       "  </tbody>\n",
       "</table>\n",
       "</div>"
      ],
      "text/plain": [
       "          PLAYERS NATIONALITY         TYPE    BASE PRICE     PRICE PAID    \\\n",
       "0      Ben Stokes    Overseas  All-Rounder  ₹ 2,00,00,000     162500000.0   \n",
       "1   Kyle Jamieson    Overseas       Bowler  ₹ 1,00,00,000      10000000.0   \n",
       "2  Nishant Sindhu      Indian  All-Rounder    ₹ 20,00,000       6000000.0   \n",
       "3  Ajinkya Rahane      Indian       Batter    ₹ 50,00,000       5000000.0   \n",
       "4   Bhagath Varma      Indian  All-Rounder    ₹ 20,00,000       2000000.0   \n",
       "\n",
       "                 PREVIOUS TEAM                TEAMS  \n",
       "0                          NaN  Chennai Super Kings  \n",
       "1  Royal Challengers Bangalore  Chennai Super Kings  \n",
       "2                          NaN  Chennai Super Kings  \n",
       "3        Kolkata Knight Riders  Chennai Super Kings  \n",
       "4          Chennai Super Kings  Chennai Super Kings  "
      ]
     },
     "execution_count": 124,
     "metadata": {},
     "output_type": "execute_result"
    }
   ],
   "source": [
    "ipl = pd.read_csv('C:\\\\Users\\\\rohankumar barouliya\\\\OneDrive\\\\Desktop\\\\ipl_2023.csv')\n",
    "ipl.head()"
   ]
  },
  {
   "cell_type": "code",
   "execution_count": 125,
   "id": "b19e6dbf",
   "metadata": {},
   "outputs": [
    {
     "data": {
      "text/plain": [
       "(568, 7)"
      ]
     },
     "execution_count": 125,
     "metadata": {},
     "output_type": "execute_result"
    }
   ],
   "source": [
    "ipl.shape"
   ]
  },
  {
   "cell_type": "code",
   "execution_count": 126,
   "id": "601e31f9",
   "metadata": {},
   "outputs": [
    {
     "name": "stdout",
     "output_type": "stream",
     "text": [
      "<class 'pandas.core.frame.DataFrame'>\n",
      "RangeIndex: 568 entries, 0 to 567\n",
      "Data columns (total 7 columns):\n",
      " #   Column          Non-Null Count  Dtype  \n",
      "---  ------          --------------  -----  \n",
      " 0   PLAYERS         568 non-null    object \n",
      " 1   NATIONALITY     568 non-null    object \n",
      " 2   TYPE            568 non-null    object \n",
      " 3    BASE PRICE     568 non-null    object \n",
      " 4     PRICE PAID    243 non-null    float64\n",
      " 5   PREVIOUS TEAM   230 non-null    object \n",
      " 6   TEAMS           568 non-null    object \n",
      "dtypes: float64(1), object(6)\n",
      "memory usage: 31.2+ KB\n"
     ]
    }
   ],
   "source": [
    "ipl.info()"
   ]
  },
  {
   "cell_type": "code",
   "execution_count": 127,
   "id": "3a5df4f5",
   "metadata": {},
   "outputs": [
    {
     "data": {
      "text/plain": [
       "Index(['PLAYERS', 'NATIONALITY', 'TYPE', ' BASE PRICE ', '  PRICE PAID  ',\n",
       "       'PREVIOUS TEAM', 'TEAMS'],\n",
       "      dtype='object')"
      ]
     },
     "execution_count": 127,
     "metadata": {},
     "output_type": "execute_result"
    }
   ],
   "source": [
    "ipl.columns"
   ]
  },
  {
   "cell_type": "code",
   "execution_count": 128,
   "id": "5423a0f7",
   "metadata": {},
   "outputs": [],
   "source": [
    "#drop unwanted or empty column as follow:\n",
    "#> ipl.drop('Unnamed: 6', axis=1, inplace = True)\n",
    "#> ipl.drop('Unnamed: 7', axis=1, inplace = True)\n",
    "#> ipl.head() # to check o/p of drop fnc."
   ]
  },
  {
   "cell_type": "code",
   "execution_count": 129,
   "id": "f9677b90",
   "metadata": {},
   "outputs": [
    {
     "data": {
      "text/plain": [
       "PLAYERS             0\n",
       "NATIONALITY         0\n",
       "TYPE                0\n",
       " BASE PRICE         0\n",
       "  PRICE PAID      325\n",
       "PREVIOUS TEAM     338\n",
       "TEAMS               0\n",
       "dtype: int64"
      ]
     },
     "execution_count": 129,
     "metadata": {},
     "output_type": "execute_result"
    }
   ],
   "source": [
    "ipl.isnull().sum()  #give total null spaces in each column"
   ]
  },
  {
   "cell_type": "code",
   "execution_count": 130,
   "id": "2bfe0f15",
   "metadata": {},
   "outputs": [],
   "source": [
    "#to fill null value space with 0.\n",
    "ipl['  PRICE PAID  '] = ipl['  PRICE PAID  '].fillna(0)"
   ]
  },
  {
   "cell_type": "code",
   "execution_count": 131,
   "id": "646f3331",
   "metadata": {},
   "outputs": [
    {
     "data": {
      "text/html": [
       "<div>\n",
       "<style scoped>\n",
       "    .dataframe tbody tr th:only-of-type {\n",
       "        vertical-align: middle;\n",
       "    }\n",
       "\n",
       "    .dataframe tbody tr th {\n",
       "        vertical-align: top;\n",
       "    }\n",
       "\n",
       "    .dataframe thead th {\n",
       "        text-align: right;\n",
       "    }\n",
       "</style>\n",
       "<table border=\"1\" class=\"dataframe\">\n",
       "  <thead>\n",
       "    <tr style=\"text-align: right;\">\n",
       "      <th></th>\n",
       "      <th>PLAYERS</th>\n",
       "      <th>NATIONALITY</th>\n",
       "      <th>TYPE</th>\n",
       "      <th>BASE PRICE</th>\n",
       "      <th>PRICE PAID</th>\n",
       "      <th>PREVIOUS TEAM</th>\n",
       "      <th>TEAMS</th>\n",
       "    </tr>\n",
       "  </thead>\n",
       "  <tbody>\n",
       "    <tr>\n",
       "      <th>0</th>\n",
       "      <td>Ben Stokes</td>\n",
       "      <td>Overseas</td>\n",
       "      <td>All-Rounder</td>\n",
       "      <td>₹ 2,00,00,000</td>\n",
       "      <td>162500000.0</td>\n",
       "      <td>NaN</td>\n",
       "      <td>Chennai Super Kings</td>\n",
       "    </tr>\n",
       "    <tr>\n",
       "      <th>2</th>\n",
       "      <td>Nishant Sindhu</td>\n",
       "      <td>Indian</td>\n",
       "      <td>All-Rounder</td>\n",
       "      <td>₹ 20,00,000</td>\n",
       "      <td>6000000.0</td>\n",
       "      <td>NaN</td>\n",
       "      <td>Chennai Super Kings</td>\n",
       "    </tr>\n",
       "    <tr>\n",
       "      <th>5</th>\n",
       "      <td>Ajay Mandal</td>\n",
       "      <td>Indian</td>\n",
       "      <td>All-Rounder</td>\n",
       "      <td>₹ 20,00,000</td>\n",
       "      <td>2000000.0</td>\n",
       "      <td>NaN</td>\n",
       "      <td>Chennai Super Kings</td>\n",
       "    </tr>\n",
       "    <tr>\n",
       "      <th>6</th>\n",
       "      <td>Shaik Rasheed</td>\n",
       "      <td>Indian</td>\n",
       "      <td>Batter</td>\n",
       "      <td>₹ 20,00,000</td>\n",
       "      <td>2000000.0</td>\n",
       "      <td>NaN</td>\n",
       "      <td>Chennai Super Kings</td>\n",
       "    </tr>\n",
       "    <tr>\n",
       "      <th>25</th>\n",
       "      <td>Mukesh Kumar</td>\n",
       "      <td>Indian</td>\n",
       "      <td>Bowler</td>\n",
       "      <td>₹ 20,00,000</td>\n",
       "      <td>55000000.0</td>\n",
       "      <td>NaN</td>\n",
       "      <td>Delhi Capitals</td>\n",
       "    </tr>\n",
       "    <tr>\n",
       "      <th>...</th>\n",
       "      <td>...</td>\n",
       "      <td>...</td>\n",
       "      <td>...</td>\n",
       "      <td>...</td>\n",
       "      <td>...</td>\n",
       "      <td>...</td>\n",
       "      <td>...</td>\n",
       "    </tr>\n",
       "    <tr>\n",
       "      <th>563</th>\n",
       "      <td>Dhruv Patel</td>\n",
       "      <td>Indian</td>\n",
       "      <td>All-Rounder</td>\n",
       "      <td>₹ 20,00,000</td>\n",
       "      <td>0.0</td>\n",
       "      <td>NaN</td>\n",
       "      <td>UNSOLD</td>\n",
       "    </tr>\n",
       "    <tr>\n",
       "      <th>564</th>\n",
       "      <td>Jack Prestwidge</td>\n",
       "      <td>Overseas</td>\n",
       "      <td>All-Rounder</td>\n",
       "      <td>₹ 20,00,000</td>\n",
       "      <td>0.0</td>\n",
       "      <td>NaN</td>\n",
       "      <td>UNSOLD</td>\n",
       "    </tr>\n",
       "    <tr>\n",
       "      <th>565</th>\n",
       "      <td>Aditya Sarvate</td>\n",
       "      <td>Indian</td>\n",
       "      <td>All-Rounder</td>\n",
       "      <td>₹ 20,00,000</td>\n",
       "      <td>0.0</td>\n",
       "      <td>NaN</td>\n",
       "      <td>UNSOLD</td>\n",
       "    </tr>\n",
       "    <tr>\n",
       "      <th>566</th>\n",
       "      <td>Sagar Solanki</td>\n",
       "      <td>Indian</td>\n",
       "      <td>All-Rounder</td>\n",
       "      <td>₹ 20,00,000</td>\n",
       "      <td>0.0</td>\n",
       "      <td>NaN</td>\n",
       "      <td>UNSOLD</td>\n",
       "    </tr>\n",
       "    <tr>\n",
       "      <th>567</th>\n",
       "      <td>Prenelan Subrayen</td>\n",
       "      <td>Overseas</td>\n",
       "      <td>All-Rounder</td>\n",
       "      <td>₹ 20,00,000</td>\n",
       "      <td>0.0</td>\n",
       "      <td>NaN</td>\n",
       "      <td>UNSOLD</td>\n",
       "    </tr>\n",
       "  </tbody>\n",
       "</table>\n",
       "<p>338 rows × 7 columns</p>\n",
       "</div>"
      ],
      "text/plain": [
       "               PLAYERS NATIONALITY         TYPE    BASE PRICE   \\\n",
       "0           Ben Stokes    Overseas  All-Rounder  ₹ 2,00,00,000   \n",
       "2       Nishant Sindhu      Indian  All-Rounder    ₹ 20,00,000   \n",
       "5          Ajay Mandal      Indian  All-Rounder    ₹ 20,00,000   \n",
       "6        Shaik Rasheed      Indian       Batter    ₹ 20,00,000   \n",
       "25        Mukesh Kumar      Indian       Bowler    ₹ 20,00,000   \n",
       "..                 ...         ...          ...            ...   \n",
       "563        Dhruv Patel      Indian  All-Rounder    ₹ 20,00,000   \n",
       "564    Jack Prestwidge    Overseas  All-Rounder    ₹ 20,00,000   \n",
       "565     Aditya Sarvate      Indian  All-Rounder    ₹ 20,00,000   \n",
       "566      Sagar Solanki      Indian  All-Rounder    ₹ 20,00,000   \n",
       "567  Prenelan Subrayen    Overseas  All-Rounder    ₹ 20,00,000   \n",
       "\n",
       "       PRICE PAID   PREVIOUS TEAM                TEAMS  \n",
       "0       162500000.0           NaN  Chennai Super Kings  \n",
       "2         6000000.0           NaN  Chennai Super Kings  \n",
       "5         2000000.0           NaN  Chennai Super Kings  \n",
       "6         2000000.0           NaN  Chennai Super Kings  \n",
       "25       55000000.0           NaN       Delhi Capitals  \n",
       "..              ...           ...                  ...  \n",
       "563             0.0           NaN               UNSOLD  \n",
       "564             0.0           NaN               UNSOLD  \n",
       "565             0.0           NaN               UNSOLD  \n",
       "566             0.0           NaN               UNSOLD  \n",
       "567             0.0           NaN               UNSOLD  \n",
       "\n",
       "[338 rows x 7 columns]"
      ]
     },
     "execution_count": 131,
     "metadata": {},
     "output_type": "execute_result"
    }
   ],
   "source": [
    "#check players unsold in previous auction\n",
    "ipl[ipl['PREVIOUS TEAM'].isnull()]"
   ]
  },
  {
   "cell_type": "code",
   "execution_count": 132,
   "id": "5ea0bc6d",
   "metadata": {},
   "outputs": [],
   "source": [
    "#label unsold players as not participated\n",
    "ipl['PREVIOUS TEAM'] = ipl['PREVIOUS TEAM'].fillna('not participated')"
   ]
  },
  {
   "cell_type": "code",
   "execution_count": 133,
   "id": "9d526350",
   "metadata": {},
   "outputs": [
    {
     "data": {
      "text/plain": [
       "PLAYERS           0\n",
       "NATIONALITY       0\n",
       "TYPE              0\n",
       " BASE PRICE       0\n",
       "  PRICE PAID      0\n",
       "PREVIOUS TEAM     0\n",
       "TEAMS             0\n",
       "dtype: int64"
      ]
     },
     "execution_count": 133,
     "metadata": {},
     "output_type": "execute_result"
    }
   ],
   "source": [
    "ipl.isnull().sum()"
   ]
  },
  {
   "cell_type": "code",
   "execution_count": 134,
   "id": "3efd3b4d",
   "metadata": {},
   "outputs": [
    {
     "data": {
      "text/plain": [
       "array(['Chennai Super Kings', 'Delhi Capitals', 'Gujarat Titans',\n",
       "       'Kolkata Knight Riders', 'Lucknow Super Giants', 'Mumbai Indians',\n",
       "       'Punjab Kings', 'Rajasthan Royals', 'Royal Challengers Bangalore',\n",
       "       'Sunrisers Hyderabad'], dtype=object)"
      ]
     },
     "execution_count": 134,
     "metadata": {},
     "output_type": "execute_result"
    }
   ],
   "source": [
    "#to see sold players in a column named status\n",
    "teams = ipl[ipl['  PRICE PAID  ']>0]['TEAMS'].unique()\n",
    "teams"
   ]
  },
  {
   "cell_type": "code",
   "execution_count": 135,
   "id": "8770efc2",
   "metadata": {},
   "outputs": [
    {
     "data": {
      "text/html": [
       "<div>\n",
       "<style scoped>\n",
       "    .dataframe tbody tr th:only-of-type {\n",
       "        vertical-align: middle;\n",
       "    }\n",
       "\n",
       "    .dataframe tbody tr th {\n",
       "        vertical-align: top;\n",
       "    }\n",
       "\n",
       "    .dataframe thead th {\n",
       "        text-align: right;\n",
       "    }\n",
       "</style>\n",
       "<table border=\"1\" class=\"dataframe\">\n",
       "  <thead>\n",
       "    <tr style=\"text-align: right;\">\n",
       "      <th></th>\n",
       "      <th>PLAYERS</th>\n",
       "      <th>NATIONALITY</th>\n",
       "      <th>TYPE</th>\n",
       "      <th>BASE PRICE</th>\n",
       "      <th>PRICE PAID</th>\n",
       "      <th>PREVIOUS TEAM</th>\n",
       "      <th>TEAMS</th>\n",
       "      <th>status</th>\n",
       "    </tr>\n",
       "  </thead>\n",
       "  <tbody>\n",
       "    <tr>\n",
       "      <th>0</th>\n",
       "      <td>Ben Stokes</td>\n",
       "      <td>Overseas</td>\n",
       "      <td>All-Rounder</td>\n",
       "      <td>₹ 2,00,00,000</td>\n",
       "      <td>162500000.0</td>\n",
       "      <td>not participated</td>\n",
       "      <td>Chennai Super Kings</td>\n",
       "      <td>sold</td>\n",
       "    </tr>\n",
       "    <tr>\n",
       "      <th>1</th>\n",
       "      <td>Kyle Jamieson</td>\n",
       "      <td>Overseas</td>\n",
       "      <td>Bowler</td>\n",
       "      <td>₹ 1,00,00,000</td>\n",
       "      <td>10000000.0</td>\n",
       "      <td>Royal Challengers Bangalore</td>\n",
       "      <td>Chennai Super Kings</td>\n",
       "      <td>sold</td>\n",
       "    </tr>\n",
       "    <tr>\n",
       "      <th>2</th>\n",
       "      <td>Nishant Sindhu</td>\n",
       "      <td>Indian</td>\n",
       "      <td>All-Rounder</td>\n",
       "      <td>₹ 20,00,000</td>\n",
       "      <td>6000000.0</td>\n",
       "      <td>not participated</td>\n",
       "      <td>Chennai Super Kings</td>\n",
       "      <td>sold</td>\n",
       "    </tr>\n",
       "    <tr>\n",
       "      <th>3</th>\n",
       "      <td>Ajinkya Rahane</td>\n",
       "      <td>Indian</td>\n",
       "      <td>Batter</td>\n",
       "      <td>₹ 50,00,000</td>\n",
       "      <td>5000000.0</td>\n",
       "      <td>Kolkata Knight Riders</td>\n",
       "      <td>Chennai Super Kings</td>\n",
       "      <td>sold</td>\n",
       "    </tr>\n",
       "    <tr>\n",
       "      <th>4</th>\n",
       "      <td>Bhagath Varma</td>\n",
       "      <td>Indian</td>\n",
       "      <td>All-Rounder</td>\n",
       "      <td>₹ 20,00,000</td>\n",
       "      <td>2000000.0</td>\n",
       "      <td>Chennai Super Kings</td>\n",
       "      <td>Chennai Super Kings</td>\n",
       "      <td>sold</td>\n",
       "    </tr>\n",
       "  </tbody>\n",
       "</table>\n",
       "</div>"
      ],
      "text/plain": [
       "          PLAYERS NATIONALITY         TYPE    BASE PRICE     PRICE PAID    \\\n",
       "0      Ben Stokes    Overseas  All-Rounder  ₹ 2,00,00,000     162500000.0   \n",
       "1   Kyle Jamieson    Overseas       Bowler  ₹ 1,00,00,000      10000000.0   \n",
       "2  Nishant Sindhu      Indian  All-Rounder    ₹ 20,00,000       6000000.0   \n",
       "3  Ajinkya Rahane      Indian       Batter    ₹ 50,00,000       5000000.0   \n",
       "4   Bhagath Varma      Indian  All-Rounder    ₹ 20,00,000       2000000.0   \n",
       "\n",
       "                 PREVIOUS TEAM                TEAMS status  \n",
       "0             not participated  Chennai Super Kings   sold  \n",
       "1  Royal Challengers Bangalore  Chennai Super Kings   sold  \n",
       "2             not participated  Chennai Super Kings   sold  \n",
       "3        Kolkata Knight Riders  Chennai Super Kings   sold  \n",
       "4          Chennai Super Kings  Chennai Super Kings   sold  "
      ]
     },
     "execution_count": 135,
     "metadata": {},
     "output_type": "execute_result"
    }
   ],
   "source": [
    "ipl['status'] = ipl['TEAMS'].replace(teams,'sold')\n",
    "ipl.head()"
   ]
  },
  {
   "cell_type": "code",
   "execution_count": 136,
   "id": "2f61e77e",
   "metadata": {},
   "outputs": [
    {
     "data": {
      "text/html": [
       "<div>\n",
       "<style scoped>\n",
       "    .dataframe tbody tr th:only-of-type {\n",
       "        vertical-align: middle;\n",
       "    }\n",
       "\n",
       "    .dataframe tbody tr th {\n",
       "        vertical-align: top;\n",
       "    }\n",
       "\n",
       "    .dataframe thead th {\n",
       "        text-align: right;\n",
       "    }\n",
       "</style>\n",
       "<table border=\"1\" class=\"dataframe\">\n",
       "  <thead>\n",
       "    <tr style=\"text-align: right;\">\n",
       "      <th></th>\n",
       "      <th>PLAYERS</th>\n",
       "      <th>NATIONALITY</th>\n",
       "      <th>TYPE</th>\n",
       "      <th>BASE PRICE</th>\n",
       "      <th>PRICE PAID</th>\n",
       "      <th>PREVIOUS TEAM</th>\n",
       "      <th>TEAMS</th>\n",
       "      <th>status</th>\n",
       "    </tr>\n",
       "  </thead>\n",
       "  <tbody>\n",
       "    <tr>\n",
       "      <th>374</th>\n",
       "      <td>Akash Singh</td>\n",
       "      <td>Indian</td>\n",
       "      <td>Bowler</td>\n",
       "      <td>₹ 20,00,000</td>\n",
       "      <td>0.0</td>\n",
       "      <td>not participated</td>\n",
       "      <td>UNSOLD</td>\n",
       "      <td>UNSOLD</td>\n",
       "    </tr>\n",
       "    <tr>\n",
       "      <th>384</th>\n",
       "      <td>Shivam Sharma</td>\n",
       "      <td>Indian</td>\n",
       "      <td>Bowler</td>\n",
       "      <td>₹ 20,00,000</td>\n",
       "      <td>0.0</td>\n",
       "      <td>not participated</td>\n",
       "      <td>UNSOLD</td>\n",
       "      <td>UNSOLD</td>\n",
       "    </tr>\n",
       "    <tr>\n",
       "      <th>394</th>\n",
       "      <td>Akash Singh</td>\n",
       "      <td>Indian</td>\n",
       "      <td>Batter</td>\n",
       "      <td>₹ 20,00,000</td>\n",
       "      <td>0.0</td>\n",
       "      <td>not participated</td>\n",
       "      <td>UNSOLD</td>\n",
       "      <td>UNSOLD</td>\n",
       "    </tr>\n",
       "    <tr>\n",
       "      <th>425</th>\n",
       "      <td>Prince Yadav</td>\n",
       "      <td>Indian</td>\n",
       "      <td>Bowler</td>\n",
       "      <td>₹ 20,00,000</td>\n",
       "      <td>0.0</td>\n",
       "      <td>not participated</td>\n",
       "      <td>UNSOLD</td>\n",
       "      <td>UNSOLD</td>\n",
       "    </tr>\n",
       "    <tr>\n",
       "      <th>535</th>\n",
       "      <td>Prince Yadav</td>\n",
       "      <td>Indian</td>\n",
       "      <td>All-Rounder</td>\n",
       "      <td>₹ 20,00,000</td>\n",
       "      <td>0.0</td>\n",
       "      <td>not participated</td>\n",
       "      <td>UNSOLD</td>\n",
       "      <td>UNSOLD</td>\n",
       "    </tr>\n",
       "    <tr>\n",
       "      <th>542</th>\n",
       "      <td>Shivam Sharma</td>\n",
       "      <td>Indian</td>\n",
       "      <td>All-Rounder</td>\n",
       "      <td>₹ 20,00,000</td>\n",
       "      <td>0.0</td>\n",
       "      <td>not participated</td>\n",
       "      <td>UNSOLD</td>\n",
       "      <td>UNSOLD</td>\n",
       "    </tr>\n",
       "  </tbody>\n",
       "</table>\n",
       "</div>"
      ],
      "text/plain": [
       "           PLAYERS NATIONALITY         TYPE  BASE PRICE     PRICE PAID    \\\n",
       "374    Akash Singh      Indian       Bowler  ₹ 20,00,000             0.0   \n",
       "384  Shivam Sharma      Indian       Bowler  ₹ 20,00,000             0.0   \n",
       "394    Akash Singh      Indian       Batter  ₹ 20,00,000             0.0   \n",
       "425   Prince Yadav      Indian       Bowler  ₹ 20,00,000             0.0   \n",
       "535   Prince Yadav      Indian  All-Rounder  ₹ 20,00,000             0.0   \n",
       "542  Shivam Sharma      Indian  All-Rounder  ₹ 20,00,000             0.0   \n",
       "\n",
       "        PREVIOUS TEAM   TEAMS  status  \n",
       "374  not participated  UNSOLD  UNSOLD  \n",
       "384  not participated  UNSOLD  UNSOLD  \n",
       "394  not participated  UNSOLD  UNSOLD  \n",
       "425  not participated  UNSOLD  UNSOLD  \n",
       "535  not participated  UNSOLD  UNSOLD  \n",
       "542  not participated  UNSOLD  UNSOLD  "
      ]
     },
     "execution_count": 136,
     "metadata": {},
     "output_type": "execute_result"
    }
   ],
   "source": [
    "#SEE PLAYERS WITH SAME NAME\n",
    "ipl[ipl['PLAYERS'].duplicated(keep=False)] #keep=false used as we don't want these players"
   ]
  },
  {
   "cell_type": "code",
   "execution_count": 137,
   "id": "fd3883b0",
   "metadata": {},
   "outputs": [
    {
     "data": {
      "text/plain": [
       "568"
      ]
     },
     "execution_count": 137,
     "metadata": {},
     "output_type": "execute_result"
    }
   ],
   "source": [
    "#HOW MANY PLAYERS PARTICIPATED IN AUCTION?\n",
    "ipl.shape[0] #GIVE NO.OF ROWS"
   ]
  },
  {
   "cell_type": "code",
   "execution_count": 138,
   "id": "ed330735",
   "metadata": {},
   "outputs": [
    {
     "data": {
      "text/html": [
       "<div>\n",
       "<style scoped>\n",
       "    .dataframe tbody tr th:only-of-type {\n",
       "        vertical-align: middle;\n",
       "    }\n",
       "\n",
       "    .dataframe tbody tr th {\n",
       "        vertical-align: top;\n",
       "    }\n",
       "\n",
       "    .dataframe thead th {\n",
       "        text-align: right;\n",
       "    }\n",
       "</style>\n",
       "<table border=\"1\" class=\"dataframe\">\n",
       "  <thead>\n",
       "    <tr style=\"text-align: right;\">\n",
       "      <th></th>\n",
       "      <th>index</th>\n",
       "      <th>TYPE</th>\n",
       "    </tr>\n",
       "  </thead>\n",
       "  <tbody>\n",
       "    <tr>\n",
       "      <th>0</th>\n",
       "      <td>Bowler</td>\n",
       "      <td>199</td>\n",
       "    </tr>\n",
       "    <tr>\n",
       "      <th>1</th>\n",
       "      <td>All-Rounder</td>\n",
       "      <td>193</td>\n",
       "    </tr>\n",
       "    <tr>\n",
       "      <th>2</th>\n",
       "      <td>Batter</td>\n",
       "      <td>110</td>\n",
       "    </tr>\n",
       "    <tr>\n",
       "      <th>3</th>\n",
       "      <td>Wicket-Keeper</td>\n",
       "      <td>66</td>\n",
       "    </tr>\n",
       "  </tbody>\n",
       "</table>\n",
       "</div>"
      ],
      "text/plain": [
       "           index  TYPE\n",
       "0         Bowler   199\n",
       "1    All-Rounder   193\n",
       "2         Batter   110\n",
       "3  Wicket-Keeper    66"
      ]
     },
     "execution_count": 138,
     "metadata": {},
     "output_type": "execute_result"
    }
   ],
   "source": [
    "#TYPES OF PLAYERS PARTICIPATED?\n",
    "types = ipl['TYPE'].value_counts()\n",
    "types.reset_index()"
   ]
  },
  {
   "cell_type": "code",
   "execution_count": 139,
   "id": "1934b611",
   "metadata": {},
   "outputs": [
    {
     "data": {
      "image/png": "[encoded data removed]",
      "text/plain": [
       "<Figure size 432x288 with 1 Axes>"
      ]
     },
     "metadata": {},
     "output_type": "display_data"
    }
   ],
   "source": [
    "#pie chart for types representation\n",
    "plt.pie(types.values, labels=types.index, labeldistance=1.2, autopct='%1.2f%%', shadow=True, startangle=60)\n",
    "plt.title('Role of players participated', fontsize=15)\n",
    "plt.show()"
   ]
  },
  {
   "cell_type": "code",
   "execution_count": 140,
   "id": "02aab0a8",
   "metadata": {},
   "outputs": [
    {
     "data": {
      "image/png": "[encoded data removed]",
      "text/plain": [
       "<Figure size 720x360 with 1 Axes>"
      ]
     },
     "metadata": {
      "needs_background": "light"
     },
     "output_type": "display_data"
    }
   ],
   "source": [
    "#showing players sold and unsold by BARGRAPH\n",
    "plt.figure(figsize=(10,5))\n",
    "fig = sns.countplot(ipl['status'],palette=['Blue','Orange'])\n",
    "plt.xlabel('sold or unsold')\n",
    "plt.ylabel('No. of players')\n",
    "plt.title('Sold vs Unsold', fontsize=15)\n",
    "plt.plot()\n",
    "\n",
    "for p in fig.patches: #func. to display each of the data labels\n",
    "    fig.annotate(format(p.get_height(), '.0f'), (p.get_x() + \n",
    "    p.get_width()/2., p.get_height()), ha = 'center', va = 'center',\n",
    "    xytext = (0,4), textcoords = 'offset points')"
   ]
  },
  {
   "cell_type": "code",
   "execution_count": 141,
   "id": "82e84e2f",
   "metadata": {},
   "outputs": [
    {
     "data": {
      "text/plain": [
       "status\n",
       "UNSOLD    325\n",
       "sold      243\n",
       "Name: PLAYERS, dtype: int64"
      ]
     },
     "execution_count": 141,
     "metadata": {},
     "output_type": "execute_result"
    }
   ],
   "source": [
    "ipl.groupby('status')['PLAYERS'].count() # to group sold & unsold players"
   ]
  },
  {
   "cell_type": "code",
   "execution_count": 142,
   "id": "deda94be",
   "metadata": {},
   "outputs": [
    {
     "data": {
      "image/png": "[encoded data removed]",
      "text/plain": [
       "<Figure size 1440x720 with 1 Axes>"
      ]
     },
     "metadata": {
      "needs_background": "light"
     },
     "output_type": "display_data"
    }
   ],
   "source": [
    "# total no. of players bought by each team\n",
    "plt.figure(figsize=(20,10))\n",
    "fig = sns.countplot(ipl[ipl['TEAMS'] != 'UNSOLD']['TEAMS'])  #\"!=\" represent doesnt equal to\n",
    "plt.xlabel('Team names', fontsize=15)\n",
    "plt.ylabel('No. of players', fontsize=15)\n",
    "plt.title('Players Bought by Each Team', fontsize=14)\n",
    "plt.xticks(fontweight='bold', rotation=350) #tilting team names in x-axis by 70degrees\n",
    "plt.plot()\n",
    "\n",
    "for p in fig.patches: #func. to display each of the data labels\n",
    "    fig.annotate(format(p.get_height(), '.0f'), (p.get_x() + \n",
    "    p.get_width()/2., p.get_height()), ha = 'center', va = 'center',\n",
    "    xytext = (0,4), textcoords = 'offset points')"
   ]
  },
  {
   "cell_type": "code",
   "execution_count": 143,
   "id": "8fb853a7",
   "metadata": {},
   "outputs": [],
   "source": [
    "ipl['retention'] = ipl[' BASE PRICE ']"
   ]
  },
  {
   "cell_type": "code",
   "execution_count": 189,
   "id": "993730f6",
   "metadata": {},
   "outputs": [],
   "source": [
    "#treating base price\n",
    "ipl[' BASE PRICE '].replace('RETAINED',0, inplace = True)"
   ]
  },
  {
   "cell_type": "code",
   "execution_count": 194,
   "id": "5b876482",
   "metadata": {},
   "outputs": [],
   "source": [
    "ipl['base_price_unit'] = ipl[' BASE PRICE '].apply(lambda x: str(x).split(' ')[0])\n",
    "ipl['Base_Price'] = ipl[' BASE PRICE '].apply(lambda x: str(x).split(' ')[-1])"
   ]
  },
  {
   "cell_type": "code",
   "execution_count": 232,
   "id": "6929dea2",
   "metadata": {},
   "outputs": [
    {
     "data": {
      "text/html": [
       "<div>\n",
       "<style scoped>\n",
       "    .dataframe tbody tr th:only-of-type {\n",
       "        vertical-align: middle;\n",
       "    }\n",
       "\n",
       "    .dataframe tbody tr th {\n",
       "        vertical-align: top;\n",
       "    }\n",
       "\n",
       "    .dataframe thead th {\n",
       "        text-align: right;\n",
       "    }\n",
       "</style>\n",
       "<table border=\"1\" class=\"dataframe\">\n",
       "  <thead>\n",
       "    <tr style=\"text-align: right;\">\n",
       "      <th></th>\n",
       "      <th>PLAYERS</th>\n",
       "      <th>NATIONALITY</th>\n",
       "      <th>TYPE</th>\n",
       "      <th>BASE PRICE</th>\n",
       "      <th>PRICE PAID</th>\n",
       "      <th>Prev_team</th>\n",
       "      <th>TEAMS</th>\n",
       "      <th>status</th>\n",
       "      <th>retention</th>\n",
       "      <th>base_price_unit</th>\n",
       "      <th>Base_Price</th>\n",
       "    </tr>\n",
       "  </thead>\n",
       "  <tbody>\n",
       "    <tr>\n",
       "      <th>0</th>\n",
       "      <td>Ben Stokes</td>\n",
       "      <td>Overseas</td>\n",
       "      <td>All-Rounder</td>\n",
       "      <td>₹ 2,00,00,000</td>\n",
       "      <td>162500000.0</td>\n",
       "      <td>not participated</td>\n",
       "      <td>Chennai Super Kings</td>\n",
       "      <td>sold</td>\n",
       "      <td>₹ 2,00,00,000</td>\n",
       "      <td>₹</td>\n",
       "      <td>2,00,00,000</td>\n",
       "    </tr>\n",
       "    <tr>\n",
       "      <th>1</th>\n",
       "      <td>Kyle Jamieson</td>\n",
       "      <td>Overseas</td>\n",
       "      <td>Bowler</td>\n",
       "      <td>₹ 1,00,00,000</td>\n",
       "      <td>10000000.0</td>\n",
       "      <td>Royal Challengers Bangalore</td>\n",
       "      <td>Chennai Super Kings</td>\n",
       "      <td>sold</td>\n",
       "      <td>₹ 1,00,00,000</td>\n",
       "      <td>₹</td>\n",
       "      <td>1,00,00,000</td>\n",
       "    </tr>\n",
       "    <tr>\n",
       "      <th>2</th>\n",
       "      <td>Nishant Sindhu</td>\n",
       "      <td>Indian</td>\n",
       "      <td>All-Rounder</td>\n",
       "      <td>₹ 20,00,000</td>\n",
       "      <td>6000000.0</td>\n",
       "      <td>not participated</td>\n",
       "      <td>Chennai Super Kings</td>\n",
       "      <td>sold</td>\n",
       "      <td>₹ 20,00,000</td>\n",
       "      <td>₹</td>\n",
       "      <td>20,00,000</td>\n",
       "    </tr>\n",
       "    <tr>\n",
       "      <th>3</th>\n",
       "      <td>Ajinkya Rahane</td>\n",
       "      <td>Indian</td>\n",
       "      <td>Batter</td>\n",
       "      <td>₹ 50,00,000</td>\n",
       "      <td>5000000.0</td>\n",
       "      <td>Kolkata Knight Riders</td>\n",
       "      <td>Chennai Super Kings</td>\n",
       "      <td>sold</td>\n",
       "      <td>₹ 50,00,000</td>\n",
       "      <td>₹</td>\n",
       "      <td>50,00,000</td>\n",
       "    </tr>\n",
       "    <tr>\n",
       "      <th>4</th>\n",
       "      <td>Bhagath Varma</td>\n",
       "      <td>Indian</td>\n",
       "      <td>All-Rounder</td>\n",
       "      <td>₹ 20,00,000</td>\n",
       "      <td>2000000.0</td>\n",
       "      <td>Chennai Super Kings</td>\n",
       "      <td>Chennai Super Kings</td>\n",
       "      <td>sold</td>\n",
       "      <td>₹ 20,00,000</td>\n",
       "      <td>₹</td>\n",
       "      <td>20,00,000</td>\n",
       "    </tr>\n",
       "    <tr>\n",
       "      <th>5</th>\n",
       "      <td>Ajay Mandal</td>\n",
       "      <td>Indian</td>\n",
       "      <td>All-Rounder</td>\n",
       "      <td>₹ 20,00,000</td>\n",
       "      <td>2000000.0</td>\n",
       "      <td>not participated</td>\n",
       "      <td>Chennai Super Kings</td>\n",
       "      <td>sold</td>\n",
       "      <td>₹ 20,00,000</td>\n",
       "      <td>₹</td>\n",
       "      <td>20,00,000</td>\n",
       "    </tr>\n",
       "    <tr>\n",
       "      <th>6</th>\n",
       "      <td>Shaik Rasheed</td>\n",
       "      <td>Indian</td>\n",
       "      <td>Batter</td>\n",
       "      <td>₹ 20,00,000</td>\n",
       "      <td>2000000.0</td>\n",
       "      <td>not participated</td>\n",
       "      <td>Chennai Super Kings</td>\n",
       "      <td>sold</td>\n",
       "      <td>₹ 20,00,000</td>\n",
       "      <td>₹</td>\n",
       "      <td>20,00,000</td>\n",
       "    </tr>\n",
       "    <tr>\n",
       "      <th>7</th>\n",
       "      <td>A. Rayudu</td>\n",
       "      <td>Indian</td>\n",
       "      <td>Batter</td>\n",
       "      <td>0</td>\n",
       "      <td>67500000.0</td>\n",
       "      <td>Chennai Super Kings</td>\n",
       "      <td>Chennai Super Kings</td>\n",
       "      <td>sold</td>\n",
       "      <td>RETAINED</td>\n",
       "      <td>0</td>\n",
       "      <td>0</td>\n",
       "    </tr>\n",
       "    <tr>\n",
       "      <th>8</th>\n",
       "      <td>Deepak Chahar</td>\n",
       "      <td>Indian</td>\n",
       "      <td>Bowler</td>\n",
       "      <td>0</td>\n",
       "      <td>140000000.0</td>\n",
       "      <td>Chennai Super Kings</td>\n",
       "      <td>Chennai Super Kings</td>\n",
       "      <td>sold</td>\n",
       "      <td>RETAINED</td>\n",
       "      <td>0</td>\n",
       "      <td>0</td>\n",
       "    </tr>\n",
       "    <tr>\n",
       "      <th>9</th>\n",
       "      <td>Devon Conway</td>\n",
       "      <td>Overseas</td>\n",
       "      <td>Batter</td>\n",
       "      <td>0</td>\n",
       "      <td>10000000.0</td>\n",
       "      <td>Chennai Super Kings</td>\n",
       "      <td>Chennai Super Kings</td>\n",
       "      <td>sold</td>\n",
       "      <td>RETAINED</td>\n",
       "      <td>0</td>\n",
       "      <td>0</td>\n",
       "    </tr>\n",
       "  </tbody>\n",
       "</table>\n",
       "</div>"
      ],
      "text/plain": [
       "          PLAYERS NATIONALITY         TYPE    BASE PRICE     PRICE PAID    \\\n",
       "0      Ben Stokes    Overseas  All-Rounder  ₹ 2,00,00,000     162500000.0   \n",
       "1   Kyle Jamieson    Overseas       Bowler  ₹ 1,00,00,000      10000000.0   \n",
       "2  Nishant Sindhu      Indian  All-Rounder    ₹ 20,00,000       6000000.0   \n",
       "3  Ajinkya Rahane      Indian       Batter    ₹ 50,00,000       5000000.0   \n",
       "4   Bhagath Varma      Indian  All-Rounder    ₹ 20,00,000       2000000.0   \n",
       "5     Ajay Mandal      Indian  All-Rounder    ₹ 20,00,000       2000000.0   \n",
       "6   Shaik Rasheed      Indian       Batter    ₹ 20,00,000       2000000.0   \n",
       "7      A. Rayudu       Indian       Batter              0      67500000.0   \n",
       "8   Deepak Chahar      Indian       Bowler              0     140000000.0   \n",
       "9   Devon Conway     Overseas       Batter              0      10000000.0   \n",
       "\n",
       "                     Prev_team                TEAMS status      retention  \\\n",
       "0             not participated  Chennai Super Kings   sold  ₹ 2,00,00,000   \n",
       "1  Royal Challengers Bangalore  Chennai Super Kings   sold  ₹ 1,00,00,000   \n",
       "2             not participated  Chennai Super Kings   sold    ₹ 20,00,000   \n",
       "3        Kolkata Knight Riders  Chennai Super Kings   sold    ₹ 50,00,000   \n",
       "4          Chennai Super Kings  Chennai Super Kings   sold    ₹ 20,00,000   \n",
       "5             not participated  Chennai Super Kings   sold    ₹ 20,00,000   \n",
       "6             not participated  Chennai Super Kings   sold    ₹ 20,00,000   \n",
       "7          Chennai Super Kings  Chennai Super Kings   sold       RETAINED   \n",
       "8          Chennai Super Kings  Chennai Super Kings   sold       RETAINED   \n",
       "9          Chennai Super Kings  Chennai Super Kings   sold       RETAINED   \n",
       "\n",
       "  base_price_unit   Base_Price  \n",
       "0               ₹  2,00,00,000  \n",
       "1               ₹  1,00,00,000  \n",
       "2               ₹    20,00,000  \n",
       "3               ₹    50,00,000  \n",
       "4               ₹    20,00,000  \n",
       "5               ₹    20,00,000  \n",
       "6               ₹    20,00,000  \n",
       "7               0            0  \n",
       "8               0            0  \n",
       "9               0            0  "
      ]
     },
     "execution_count": 232,
     "metadata": {},
     "output_type": "execute_result"
    }
   ],
   "source": [
    "ipl[' BASE PRICE '].replace('retained',0,inplace=True)\n",
    "ipl.head(10)"
   ]
  },
  {
   "cell_type": "code",
   "execution_count": 197,
   "id": "4b08a42f",
   "metadata": {},
   "outputs": [
    {
     "data": {
      "text/plain": [
       "TEAMS                        retention    \n",
       "Chennai Super Kings          RETAINED          18\n",
       "                             ₹ 1,00,00,000      1\n",
       "                             ₹ 2,00,00,000      1\n",
       "                             ₹ 20,00,000        4\n",
       "                             ₹ 50,00,000        1\n",
       "Delhi Capitals               RETAINED          20\n",
       "                             ₹ 1,00,00,000      1\n",
       "                             ₹ 2,00,00,000      2\n",
       "                             ₹ 20,00,000        1\n",
       "                             ₹ 50,00,000        1\n",
       "Gujarat Titans               RETAINED          18\n",
       "                             ₹ 2,00,00,000      1\n",
       "                             ₹ 20,00,000        2\n",
       "                             ₹ 40,00,000        1\n",
       "                             ₹ 50,00,000        3\n",
       "Kolkata Knight Riders        RETAINED          14\n",
       "                             ₹ 1,00,00,000      1\n",
       "                             ₹ 1,50,00,000      1\n",
       "                             ₹ 20,00,000        4\n",
       "                             ₹ 50,00,000        2\n",
       "Lucknow Super Giants         RETAINED          15\n",
       "                             ₹ 2,00,00,000      1\n",
       "                             ₹ 20,00,000        4\n",
       "                             ₹ 50,00,000        4\n",
       "                             ₹ 75,00,000        1\n",
       "Mumbai Indians               RETAINED          16\n",
       "                             ₹ 1,50,00,000      1\n",
       "                             ₹ 2,00,00,000      1\n",
       "                             ₹ 20,00,000        5\n",
       "                             ₹ 50,00,000        1\n",
       "Punjab Kings                 RETAINED          16\n",
       "                             ₹ 2,00,00,000      1\n",
       "                             ₹ 20,00,000        4\n",
       "                             ₹ 50,00,000        1\n",
       "Rajasthan Royals             RETAINED          16\n",
       "                             ₹ 1,00,00,000      1\n",
       "                             ₹ 1,50,00,000      1\n",
       "                             ₹ 2,00,00,000      1\n",
       "                             ₹ 20,00,000        5\n",
       "                             ₹ 30,00,000        1\n",
       "Royal Challengers Bangalore  RETAINED          18\n",
       "                             ₹ 1,50,00,000      1\n",
       "                             ₹ 20,00,000        5\n",
       "                             ₹ 75,00,000        1\n",
       "Sunrisers Hyderabad          RETAINED          12\n",
       "                             ₹ 1,00,00,000      3\n",
       "                             ₹ 1,50,00,000      1\n",
       "                             ₹ 2,00,00,000      1\n",
       "                             ₹ 20,00,000        7\n",
       "                             ₹ 50,00,000        1\n",
       "UNSOLD                       ₹ 1,00,00,000     13\n",
       "                             ₹ 1,50,00,000      6\n",
       "                             ₹ 2,00,00,000     10\n",
       "                             ₹ 20,00,000      234\n",
       "                             ₹ 30,00,000        3\n",
       "                             ₹ 40,00,000        5\n",
       "                             ₹ 50,00,000       47\n",
       "Name: retention, dtype: int64"
      ]
     },
     "execution_count": 197,
     "metadata": {},
     "output_type": "execute_result"
    }
   ],
   "source": [
    "#total players retained & bought\n",
    "ipl.groupby(['TEAMS','retention'])['retention'].count()[:-1]"
   ]
  },
  {
   "cell_type": "code",
   "execution_count": 198,
   "id": "d0d4bfad",
   "metadata": {},
   "outputs": [
    {
     "data": {
      "text/plain": [
       "(array([0, 1, 2, 3, 4, 5, 6, 7, 8, 9]),\n",
       " [Text(0, 0, 'Chennai Super Kings'),\n",
       "  Text(1, 0, 'Delhi Capitals'),\n",
       "  Text(2, 0, 'Gujarat Titans'),\n",
       "  Text(3, 0, 'Kolkata Knight Riders'),\n",
       "  Text(4, 0, 'Lucknow Super Giants'),\n",
       "  Text(5, 0, 'Mumbai Indians'),\n",
       "  Text(6, 0, 'Punjab Kings'),\n",
       "  Text(7, 0, 'Rajasthan Royals'),\n",
       "  Text(8, 0, 'Royal Challengers Bangalore'),\n",
       "  Text(9, 0, 'Sunrisers Hyderabad')])"
      ]
     },
     "execution_count": 198,
     "metadata": {},
     "output_type": "execute_result"
    },
    {
     "data": {
      "image/png": "[encoded data removed]",
      "text/plain": [
       "<Figure size 1440x720 with 1 Axes>"
      ]
     },
     "metadata": {
      "needs_background": "light"
     },
     "output_type": "display_data"
    }
   ],
   "source": [
    "#showing players in each team based on types\n",
    "plt.figure(figsize=(20,10))\n",
    "fig = sns.countplot(ipl[ipl['TEAMS'] != 'UNSOLD']['TEAMS'],hue=ipl['TYPE'])\n",
    "plt.title('players in each team')\n",
    "plt.xlabel('Team names')\n",
    "plt.ylabel('no.of players')\n",
    "plt.xticks(rotation=50) #tilting team names in x-axis by 50degrees"
   ]
  },
  {
   "cell_type": "code",
   "execution_count": 217,
   "id": "f283b4d5",
   "metadata": {},
   "outputs": [
    {
     "data": {
      "text/plain": [
       "TEAMS\n",
       "Punjab Kings                   185000000.0\n",
       "Mumbai Indians                 175000000.0\n",
       "Lucknow Super Giants           170000000.0\n",
       "Chennai Super Kings            162500000.0\n",
       "Delhi Capitals                 160000000.0\n",
       "Kolkata Knight Riders          160000000.0\n",
       "Gujarat Titans                 150000000.0\n",
       "Royal Challengers Bangalore    150000000.0\n",
       "Rajasthan Royals               140000000.0\n",
       "Sunrisers Hyderabad            132500000.0\n",
       "Name:   PRICE PAID  , dtype: float64"
      ]
     },
     "execution_count": 217,
     "metadata": {},
     "output_type": "execute_result"
    }
   ],
   "source": [
    "#highest amount spent on single player by each team\n",
    "ipl[ipl['Base_Price'] != 0].groupby(['TEAMS'])['  PRICE PAID  '].max()[:-1].sort_values(ascending = False)"
   ]
  },
  {
   "cell_type": "code",
   "execution_count": 184,
   "id": "b1cfcab7",
   "metadata": {},
   "outputs": [
    {
     "data": {
      "text/html": [
       "<div>\n",
       "<style scoped>\n",
       "    .dataframe tbody tr th:only-of-type {\n",
       "        vertical-align: middle;\n",
       "    }\n",
       "\n",
       "    .dataframe tbody tr th {\n",
       "        vertical-align: top;\n",
       "    }\n",
       "\n",
       "    .dataframe thead th {\n",
       "        text-align: right;\n",
       "    }\n",
       "</style>\n",
       "<table border=\"1\" class=\"dataframe\">\n",
       "  <thead>\n",
       "    <tr style=\"text-align: right;\">\n",
       "      <th></th>\n",
       "      <th>PLAYERS</th>\n",
       "      <th>NATIONALITY</th>\n",
       "      <th>TYPE</th>\n",
       "      <th>BASE PRICE</th>\n",
       "      <th>PRICE PAID</th>\n",
       "      <th>Prev_team</th>\n",
       "      <th>TEAMS</th>\n",
       "      <th>status</th>\n",
       "      <th>retention</th>\n",
       "      <th>base_price_unit</th>\n",
       "      <th>Base_Price</th>\n",
       "    </tr>\n",
       "  </thead>\n",
       "  <tbody>\n",
       "    <tr>\n",
       "      <th>112</th>\n",
       "      <td>KL Rahul</td>\n",
       "      <td>Indian</td>\n",
       "      <td>Batter</td>\n",
       "      <td>0</td>\n",
       "      <td>170000000.0</td>\n",
       "      <td>Lucknow Super Giants</td>\n",
       "      <td>Lucknow Super Giants</td>\n",
       "      <td>sold</td>\n",
       "      <td>RETAINED</td>\n",
       "      <td>0</td>\n",
       "      <td>0</td>\n",
       "    </tr>\n",
       "    <tr>\n",
       "      <th>83</th>\n",
       "      <td>A. Russell</td>\n",
       "      <td>Overseas</td>\n",
       "      <td>All-Rounder</td>\n",
       "      <td>0</td>\n",
       "      <td>160000000.0</td>\n",
       "      <td>Kolkata Knight Riders</td>\n",
       "      <td>Kolkata Knight Riders</td>\n",
       "      <td>sold</td>\n",
       "      <td>RETAINED</td>\n",
       "      <td>0</td>\n",
       "      <td>0</td>\n",
       "    </tr>\n",
       "    <tr>\n",
       "      <th>142</th>\n",
       "      <td>Rohit Sharma</td>\n",
       "      <td>Indian</td>\n",
       "      <td>Batter</td>\n",
       "      <td>0</td>\n",
       "      <td>160000000.0</td>\n",
       "      <td>Mumbai Indians</td>\n",
       "      <td>Mumbai Indians</td>\n",
       "      <td>sold</td>\n",
       "      <td>RETAINED</td>\n",
       "      <td>0</td>\n",
       "      <td>0</td>\n",
       "    </tr>\n",
       "  </tbody>\n",
       "</table>\n",
       "</div>"
      ],
      "text/plain": [
       "           PLAYERS NATIONALITY         TYPE  BASE PRICE     PRICE PAID    \\\n",
       "112       KL Rahul      Indian       Batter            0     170000000.0   \n",
       "83     A. Russell     Overseas  All-Rounder            0     160000000.0   \n",
       "142  Rohit Sharma       Indian       Batter            0     160000000.0   \n",
       "\n",
       "                 Prev_team                  TEAMS status retention  \\\n",
       "112   Lucknow Super Giants   Lucknow Super Giants   sold  RETAINED   \n",
       "83   Kolkata Knight Riders  Kolkata Knight Riders   sold  RETAINED   \n",
       "142         Mumbai Indians         Mumbai Indians   sold  RETAINED   \n",
       "\n",
       "    base_price_unit Base_Price  \n",
       "112               0          0  \n",
       "83                0          0  \n",
       "142               0          0  "
      ]
     },
     "execution_count": 184,
     "metadata": {},
     "output_type": "execute_result"
    }
   ],
   "source": [
    "#player retained at max price\n",
    "ipl[ipl['retention']=='RETAINED'].sort_values(by = '  PRICE PAID  ', ascending = False).head(3)"
   ]
  },
  {
   "cell_type": "code",
   "execution_count": 221,
   "id": "efc8d13c",
   "metadata": {},
   "outputs": [
    {
     "data": {
      "text/html": [
       "<div>\n",
       "<style scoped>\n",
       "    .dataframe tbody tr th:only-of-type {\n",
       "        vertical-align: middle;\n",
       "    }\n",
       "\n",
       "    .dataframe tbody tr th {\n",
       "        vertical-align: top;\n",
       "    }\n",
       "\n",
       "    .dataframe thead th {\n",
       "        text-align: right;\n",
       "    }\n",
       "</style>\n",
       "<table border=\"1\" class=\"dataframe\">\n",
       "  <thead>\n",
       "    <tr style=\"text-align: right;\">\n",
       "      <th></th>\n",
       "      <th>PLAYERS</th>\n",
       "      <th>NATIONALITY</th>\n",
       "      <th>TYPE</th>\n",
       "      <th>BASE PRICE</th>\n",
       "      <th>PRICE PAID</th>\n",
       "      <th>Prev_team</th>\n",
       "      <th>TEAMS</th>\n",
       "      <th>status</th>\n",
       "      <th>retention</th>\n",
       "      <th>base_price_unit</th>\n",
       "      <th>Base_Price</th>\n",
       "    </tr>\n",
       "  </thead>\n",
       "  <tbody>\n",
       "    <tr>\n",
       "      <th>70</th>\n",
       "      <td>Rashid Khan</td>\n",
       "      <td>Overseas</td>\n",
       "      <td>Bowler</td>\n",
       "      <td>0</td>\n",
       "      <td>150000000.0</td>\n",
       "      <td>Gujarat Titans</td>\n",
       "      <td>Gujarat Titans</td>\n",
       "      <td>sold</td>\n",
       "      <td>RETAINED</td>\n",
       "      <td>0</td>\n",
       "      <td>0</td>\n",
       "    </tr>\n",
       "    <tr>\n",
       "      <th>8</th>\n",
       "      <td>Deepak Chahar</td>\n",
       "      <td>Indian</td>\n",
       "      <td>Bowler</td>\n",
       "      <td>0</td>\n",
       "      <td>140000000.0</td>\n",
       "      <td>Chennai Super Kings</td>\n",
       "      <td>Chennai Super Kings</td>\n",
       "      <td>sold</td>\n",
       "      <td>RETAINED</td>\n",
       "      <td>0</td>\n",
       "      <td>0</td>\n",
       "    </tr>\n",
       "    <tr>\n",
       "      <th>136</th>\n",
       "      <td>J. Bumrah</td>\n",
       "      <td>Indian</td>\n",
       "      <td>Bowler</td>\n",
       "      <td>0</td>\n",
       "      <td>120000000.0</td>\n",
       "      <td>Mumbai Indians</td>\n",
       "      <td>Mumbai Indians</td>\n",
       "      <td>sold</td>\n",
       "      <td>RETAINED</td>\n",
       "      <td>0</td>\n",
       "      <td>0</td>\n",
       "    </tr>\n",
       "    <tr>\n",
       "      <th>95</th>\n",
       "      <td>Varun Chakaravarthy</td>\n",
       "      <td>Indian</td>\n",
       "      <td>Bowler</td>\n",
       "      <td>0</td>\n",
       "      <td>120000000.0</td>\n",
       "      <td>Kolkata Knight Riders</td>\n",
       "      <td>Kolkata Knight Riders</td>\n",
       "      <td>sold</td>\n",
       "      <td>RETAINED</td>\n",
       "      <td>0</td>\n",
       "      <td>0</td>\n",
       "    </tr>\n",
       "    <tr>\n",
       "      <th>90</th>\n",
       "      <td>Shardul Thakur</td>\n",
       "      <td>Indian</td>\n",
       "      <td>Bowler</td>\n",
       "      <td>0</td>\n",
       "      <td>107500000.0</td>\n",
       "      <td>Kolkata Knight Riders</td>\n",
       "      <td>Kolkata Knight Riders</td>\n",
       "      <td>sold</td>\n",
       "      <td>RETAINED</td>\n",
       "      <td>0</td>\n",
       "      <td>0</td>\n",
       "    </tr>\n",
       "  </tbody>\n",
       "</table>\n",
       "</div>"
      ],
      "text/plain": [
       "                 PLAYERS NATIONALITY    TYPE  BASE PRICE     PRICE PAID    \\\n",
       "70          Rashid Khan     Overseas  Bowler            0     150000000.0   \n",
       "8          Deepak Chahar      Indian  Bowler            0     140000000.0   \n",
       "136           J. Bumrah       Indian  Bowler            0     120000000.0   \n",
       "95   Varun Chakaravarthy      Indian  Bowler            0     120000000.0   \n",
       "90       Shardul Thakur       Indian  Bowler            0     107500000.0   \n",
       "\n",
       "                 Prev_team                  TEAMS status retention  \\\n",
       "70          Gujarat Titans         Gujarat Titans   sold  RETAINED   \n",
       "8      Chennai Super Kings    Chennai Super Kings   sold  RETAINED   \n",
       "136         Mumbai Indians         Mumbai Indians   sold  RETAINED   \n",
       "95   Kolkata Knight Riders  Kolkata Knight Riders   sold  RETAINED   \n",
       "90   Kolkata Knight Riders  Kolkata Knight Riders   sold  RETAINED   \n",
       "\n",
       "    base_price_unit Base_Price  \n",
       "70                0          0  \n",
       "8                 0          0  \n",
       "136               0          0  \n",
       "95                0          0  \n",
       "90                0          0  "
      ]
     },
     "execution_count": 221,
     "metadata": {},
     "output_type": "execute_result"
    }
   ],
   "source": [
    "#TOP 5 BOWLERS\n",
    "ipl[(ipl['Base_Price'] != 0) & (ipl['TYPE']=='Bowler')].sort_values(by = '  PRICE PAID  ', ascending = False).head()"
   ]
  },
  {
   "cell_type": "code",
   "execution_count": 181,
   "id": "0595ea67",
   "metadata": {},
   "outputs": [],
   "source": [
    "ipl = ipl.rename(columns={'PREVIOUS TEAM':'Prev_team'})"
   ]
  },
  {
   "cell_type": "code",
   "execution_count": 182,
   "id": "fbc91c97",
   "metadata": {},
   "outputs": [],
   "source": [
    "#finding players who were part of a team in previous tournament but are unsold this tournament\n",
    "unsold_players = ipl[(ipl.Prev_team != 'not participated')\n",
    "                    & (ipl.TEAMS == 'UNSOLD')][['PLAYERS','Prev_team']]   "
   ]
  },
  {
   "cell_type": "code",
   "execution_count": 183,
   "id": "4aa58c15",
   "metadata": {},
   "outputs": [
    {
     "name": "stdout",
     "output_type": "stream",
     "text": [
      "                     PLAYERS                    Prev_team\n",
      "244             Chris Jordan          Chennai Super Kings\n",
      "245               Adam Milne          Chennai Super Kings\n",
      "247    Rassie Van Der Dussen             Rajasthan Royals\n",
      "248            Jimmy Neesham             Rajasthan Royals\n",
      "252              Tymal Mills               Mumbai Indians\n",
      "254      Sherfane Rutherford  Royal Challengers Bangalore\n",
      "255           Riley Meredith               Mumbai Indians\n",
      "256                Jason Roy               Gujarat Titans\n",
      "257              Sean Abbott          Sunrisers Hyderabad\n",
      "261           Daryl Mitchell             Rajasthan Royals\n",
      "262            Mohammad Nabi        Kolkata Knight Riders\n",
      "266               Andrew Tye         Lucknow Super Giants\n",
      "283       Dushmanta Chameera         Lucknow Super Giants\n",
      "285           Sandeep Sharma                 Punjab Kings\n",
      "289           Shahbaz Nadeem         Lucknow Super Giants\n",
      "293               Karun Nair             Rajasthan Royals\n",
      "295          Gurkeerat Singh               Gujarat Titans\n",
      "300           Dominic Drakes               Gujarat Titans\n",
      "302      Chamika Karunaratne        Kolkata Knight Riders\n",
      "314              Varun Aaron               Gujarat Titans\n",
      "319         Glenton Stuurman               Mumbai Indians\n",
      "328              Thomas Helm                 Punjab Kings\n",
      "336             Chethan L.R.             Rajasthan Royals\n",
      "337             Himmat Singh          Sunrisers Hyderabad\n",
      "339              Priyam Garg          Sunrisers Hyderabad\n",
      "346           Mujtaba Yousuf          Sunrisers Hyderabad\n",
      "350        Izharulhuq Naveed               Delhi Capitals\n",
      "360             Abid Mushtaq          Sunrisers Hyderabad\n",
      "362       Jagadeesha Suchith        Kolkata Knight Riders\n",
      "363               Ricky Bhui        Kolkata Knight Riders\n",
      "364           Baba Indrajith               Mumbai Indians\n",
      "366              Aryan Juyal  Royal Challengers Bangalore\n",
      "369           Vishnu Solanki          Sunrisers Hyderabad\n",
      "371           Sushant Mishra                 Punjab Kings\n",
      "373              Ishan Porel               Mumbai Indians\n",
      "378              S.Ajith Ram             Rajasthan Royals\n",
      "388            Rahul Gahlaut          Chennai Super Kings\n",
      "400       Tanay Thyagarajann               Mumbai Indians\n",
      "413            Bharat Sharma        Kolkata Knight Riders\n",
      "416             Basit Bashir        Kolkata Knight Riders\n",
      "422  Lukman Hussain Meriwala         Lucknow Super Giants\n",
      "446          Siddharth Yadav               Mumbai Indians\n",
      "448             Rahul Buddhi                 Punjab Kings\n",
      "537          Shubham Garhwal             Rajasthan Royals\n"
     ]
    }
   ],
   "source": [
    "print(unsold_players)"
   ]
  },
  {
   "cell_type": "code",
   "execution_count": 230,
   "id": "42bb33a9",
   "metadata": {},
   "outputs": [
    {
     "data": {
      "text/html": [
       "<div>\n",
       "<style scoped>\n",
       "    .dataframe tbody tr th:only-of-type {\n",
       "        vertical-align: middle;\n",
       "    }\n",
       "\n",
       "    .dataframe tbody tr th {\n",
       "        vertical-align: top;\n",
       "    }\n",
       "\n",
       "    .dataframe thead th {\n",
       "        text-align: right;\n",
       "    }\n",
       "</style>\n",
       "<table border=\"1\" class=\"dataframe\">\n",
       "  <thead>\n",
       "    <tr style=\"text-align: right;\">\n",
       "      <th></th>\n",
       "      <th>index</th>\n",
       "      <th>status</th>\n",
       "    </tr>\n",
       "  </thead>\n",
       "  <tbody>\n",
       "    <tr>\n",
       "      <th>0</th>\n",
       "      <td>UNSOLD</td>\n",
       "      <td>325</td>\n",
       "    </tr>\n",
       "    <tr>\n",
       "      <th>1</th>\n",
       "      <td>sold</td>\n",
       "      <td>243</td>\n",
       "    </tr>\n",
       "  </tbody>\n",
       "</table>\n",
       "</div>"
      ],
      "text/plain": [
       "    index  status\n",
       "0  UNSOLD     325\n",
       "1    sold     243"
      ]
     },
     "execution_count": 230,
     "metadata": {},
     "output_type": "execute_result"
    }
   ],
   "source": [
    "stat = ipl['status'].value_counts()\n",
    "stat.reset_index()"
   ]
  },
  {
   "cell_type": "code",
   "execution_count": 231,
   "id": "787352e0",
   "metadata": {},
   "outputs": [
    {
     "data": {
      "image/png": "[encoded data removed]",
      "text/plain": [
       "<Figure size 432x288 with 1 Axes>"
      ]
     },
     "metadata": {},
     "output_type": "display_data"
    }
   ],
   "source": [
    "plt.pie(stat.values, labels=stat.index, labeldistance=1.2, autopct='%1.2f%%', shadow=True, startangle=60)\n",
    "plt.title('PLAYERS SOLD & UNSOLD', fontsize=15)\n",
    "plt.show()"
   ]
  },
  {
   "cell_type": "code",
   "execution_count": null,
   "id": "37c42b74",
   "metadata": {},
   "outputs": [],
   "source": []
  }
 ],
 "metadata": {
  "kernelspec": {
   "display_name": "Python 3 (ipykernel)",
   "language": "python",
   "name": "python3"
  },
  "language_info": {
   "codemirror_mode": {
    "name": "ipython",
    "version": 3
   },
   "file_extension": ".py",
   "mimetype": "text/x-python",
   "name": "python",
   "nbconvert_exporter": "python",
   "pygments_lexer": "ipython3",
   "version": "3.9.12"
  }
 },
 "nbformat": 4,
 "nbformat_minor": 5
}
